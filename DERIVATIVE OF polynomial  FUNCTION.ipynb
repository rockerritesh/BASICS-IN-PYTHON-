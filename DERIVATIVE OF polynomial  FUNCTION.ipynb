{
 "cells": [
  {
   "cell_type": "code",
   "execution_count": 142,
   "metadata": {},
   "outputs": [],
   "source": [
    "import numpy as np\n",
    "def basis_function(x):\n",
    "    a=np.eye(x)\n",
    "    b=np.zeros((x,1))\n",
    "    c=np. concatenate((b,a),axis=1)\n",
    "    d=np.array(range(1,x+1)).reshape(x,1)\n",
    "    e=c *d\n",
    "    return e \n",
    "    "
   ]
  },
  {
   "cell_type": "code",
   "execution_count": 135,
   "metadata": {},
   "outputs": [],
   "source": [
    "#enter  coeff.of equation  in given pattern of constant,x,x^2,x^3,...."
   ]
  },
  {
   "cell_type": "code",
   "execution_count": 146,
   "metadata": {},
   "outputs": [
    {
     "data": {
      "text/plain": [
       "array([34, 90, 34, 90])"
      ]
     },
     "execution_count": 146,
     "metadata": {},
     "output_type": "execute_result"
    }
   ],
   "source": [
    "#ENTER HERE [\\\\\\\\\\\\\\\\\\\\\\\\\\]\n",
    "d=np.array([34,90,34,90]) #NUMBER MUST BE SEPERATED BY COMMA\n",
    "d"
   ]
  },
  {
   "cell_type": "code",
   "execution_count": 145,
   "metadata": {},
   "outputs": [
    {
     "name": "stdout",
     "output_type": "stream",
     "text": [
      "your equation is 90+90x +90x^2-----\n",
      "your derivative coeff. in order of constant,x,x^2,x^3,.... term is:- [[ 90. 180. 270.]] \n"
     ]
    }
   ],
   "source": [
    "print(f'your equation is {d[0]}+{d[1]}x +{d[2]}x^2-----')\n",
    "#TO FIND LENGTH\n",
    "e=len(d)\n",
    "y=e-1\n",
    "\n",
    "#RESHAPE\n",
    "d=d.reshape(e,1)\n",
    "\n",
    "#CALLING BASIS FUNCTION\n",
    "f=basis_function(y)\n",
    "\n",
    "#FINDING DERIVATIVE\n",
    "g=f@d\n",
    "\n",
    "#PRINTING OUT\n",
    "print(f'your derivative coeff. in order of constant,x,x^2,x^3,.... term is:- {g.reshape(1,-1)} ')"
   ]
  }
 ],
 "metadata": {
  "kernelspec": {
   "display_name": "Python 3",
   "language": "python",
   "name": "python3"
  },
  "language_info": {
   "codemirror_mode": {
    "name": "ipython",
    "version": 3
   },
   "file_extension": ".py",
   "mimetype": "text/x-python",
   "name": "python",
   "nbconvert_exporter": "python",
   "pygments_lexer": "ipython3",
   "version": "3.7.7"
  }
 },
 "nbformat": 4,
 "nbformat_minor": 4
}
