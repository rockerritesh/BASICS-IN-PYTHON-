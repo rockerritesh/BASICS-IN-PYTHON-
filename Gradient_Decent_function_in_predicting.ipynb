{
  "nbformat": 4,
  "nbformat_minor": 0,
  "metadata": {
    "colab": {
      "name": "Gradient Decent function in predicting.ipynb",
      "provenance": [],
      "authorship_tag": "ABX9TyO3ZeFKkuSE4limgUSADv4D",
      "include_colab_link": true
    },
    "kernelspec": {
      "name": "python3",
      "display_name": "Python 3"
    }
  },
  "cells": [
    {
      "cell_type": "markdown",
      "metadata": {
        "id": "view-in-github",
        "colab_type": "text"
      },
      "source": [
        "<a href=\"https://colab.research.google.com/github/rockerritesh/BASICS-IN-PYTHON-/blob/master/Gradient_Decent_function_in_predicting.ipynb\" target=\"_parent\"><img src=\"https://colab.research.google.com/assets/colab-badge.svg\" alt=\"Open In Colab\"/></a>"
      ]
    },
    {
      "cell_type": "code",
      "metadata": {
        "id": "PDnDH7uvSZYF",
        "colab_type": "code",
        "colab": {}
      },
      "source": [
        "\n",
        "x = np.array([1,2,3,4,5])  #you can pass matrix or group of matrix\n",
        "y = np.array([5,4,3,2,1])"
      ],
      "execution_count": 0,
      "outputs": []
    },
    {
      "cell_type": "code",
      "metadata": {
        "id": "LwPEvlJvSpov",
        "colab_type": "code",
        "colab": {}
      },
      "source": [
        "import numpy as np\n",
        "import matplotlib.pyplot as plt\n"
      ],
      "execution_count": 0,
      "outputs": []
    },
    {
      "cell_type": "code",
      "metadata": {
        "id": "J05N74xhSbfG",
        "colab_type": "code",
        "colab": {}
      },
      "source": [
        "def gradient_descent(x,y):\n",
        "    m_curr = b_curr = 0  #initial supossed value of m&b\n",
        "    ileration = 1000 #number of time the function will run\n",
        "    n = len(x)\n",
        "    learning_rate = 0.08  #most important term which decide how the prediction will start by takiing large or small  baby steps\n",
        "    \n",
        "    for i in range(ileration):\n",
        "        y_predicted = m_curr*x + b_curr   #hypotical function or actual linear function we consider\n",
        "        cost = (1/n) * sum([val**2 for val in (y-y_predicted)])  #cost function j(0o,01)\n",
        "        md = -(1/n)*sum(x*(y-y_predicted)) #derivative of cost function with respect to 01\n",
        "        bd = -(1/n)*sum(y-y_predicted)  #derivative of cost function with respect  to 0\n",
        "        m_curr = m_curr - learning_rate * md  #predicting value of m and updating in each illetration\n",
        "        b_curr = b_curr - learning_rate * bd  #predicting value of b and updating value in each iletration\n",
        "        print (\"m {}, b {}, cost {} iteration {}\".format(m_curr,b_curr,cost, i)) #you can use any of them this will show you steps\n",
        "    #x=print(f'm ={m_curr},b = {b_curr},cost = {cost},iteration = {i}') #this will not show you steps \n",
        "     "
      ],
      "execution_count": 0,
      "outputs": []
    },
    {
      "cell_type": "code",
      "metadata": {
        "id": "o3--Cb6tWL7j",
        "colab_type": "code",
        "colab": {}
      },
      "source": [
        ""
      ],
      "execution_count": 0,
      "outputs": []
    },
    {
      "cell_type": "code",
      "metadata": {
        "id": "c3oUkflKSmqU",
        "colab_type": "code",
        "outputId": "5f1333d2-0f74-456f-ee06-4e581913d5c4",
        "colab": {
          "base_uri": "https://localhost:8080/",
          "height": 265
        }
      },
      "source": [
        "gradient_descent(x,y)"
      ],
      "execution_count": 14,
      "outputs": [
        {
          "output_type": "display_data",
          "data": {
            "image/png": "[encoded data removed]",
            "text/plain": [
              "<Figure size 432x288 with 1 Axes>"
            ]
          },
          "metadata": {
            "tags": [],
            "needs_background": "light"
          }
        }
      ]
    },
    {
      "cell_type": "code",
      "metadata": {
        "id": "x_gVYYVCVUmr",
        "colab_type": "code",
        "colab": {}
      },
      "source": [
        "%matplotlib inline          \n",
        "def gradient_descent(x,y):\n",
        "    m_curr = b_curr = 0\n",
        "    rate = 0.08\n",
        "    n = len(x)\n",
        "    plt.scatter(x,y,color='red',marker='+',linewidth='5')\n",
        "    for i in range(1000):\n",
        "        y_predicted = m_curr * x + b_curr\n",
        "#         print (m_curr,b_curr, i)\n",
        "        plt.plot(x,y_predicted,color='green') # code for printing graphical representation of training the data\n",
        "        md = -(1/n)*sum(x*(y-y_predicted))\n",
        "        yd = -(1/n)*sum(y-y_predicted)\n",
        "        m_curr = m_curr - rate * md\n",
        "        b_curr = b_curr - rate * yd"
      ],
      "execution_count": 0,
      "outputs": []
    },
    {
      "cell_type": "code",
      "metadata": {
        "id": "fmtDSFFobxRX",
        "colab_type": "code",
        "colab": {}
      },
      "source": [
        "gradient_descent(x,y)"
      ],
      "execution_count": 0,
      "outputs": []
    }
  ]
}